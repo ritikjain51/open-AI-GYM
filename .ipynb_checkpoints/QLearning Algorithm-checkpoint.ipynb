{
 "cells": [
  {
   "cell_type": "code",
   "execution_count": 1,
   "id": "26daafdf",
   "metadata": {},
   "outputs": [],
   "source": [
    "import gym\n"
   ]
  },
  {
   "cell_type": "code",
   "execution_count": 2,
   "id": "771f2b76",
   "metadata": {},
   "outputs": [],
   "source": [
    "env_name = 'FrozenLake-v1'\n",
    "\n"
   ]
  },
  {
   "cell_type": "code",
   "execution_count": 5,
   "id": "eba8eb7d",
   "metadata": {},
   "outputs": [],
   "source": [
    "class Environment(gym.wrappers.time_limit.TimeLimit):\n",
    "    \n",
    "    def __init__(self, env_name, *args, **kwargs):\n",
    "        super(Environment, self).__init__(gym.make(env_name,  *args, **kwargs))\n",
    "        self.print_env()\n",
    "    \n",
    "    def print_env(self):\n",
    "        print(\"Environment Name: \", self.spec.name)\n",
    "        print(\"Action Space Type: \", \"DISCRETE\" if type(self.action_space) == gym.spaces.discrete.Discrete else \"CONTINUOUS\" )\n",
    "        print(\"Observation Space: \", self.observation_space)\n",
    "        \n",
    "    def __del__(self):\n",
    "        self.close()"
   ]
  },
  {
   "cell_type": "code",
   "execution_count": 7,
   "id": "f9ff4354",
   "metadata": {},
   "outputs": [
    {
     "name": "stdout",
     "output_type": "stream",
     "text": [
      "Environment Name:  FrozenLake\n",
      "Action Space Type:  DISCRETE\n",
      "Observation Space:  Discrete(16)\n"
     ]
    }
   ],
   "source": [
    "env = Environment(env_name, render_mode=\"human\", is_slippery=False)"
   ]
  },
  {
   "cell_type": "code",
   "execution_count": 8,
   "id": "4466d4e3",
   "metadata": {},
   "outputs": [
    {
     "data": {
      "text/plain": [
       "EnvSpec(id='FrozenLake-v1', entry_point='gym.envs.toy_text.frozen_lake:FrozenLakeEnv', reward_threshold=0.7, nondeterministic=False, max_episode_steps=100, order_enforce=True, autoreset=False, disable_env_checker=False, apply_api_compatibility=False, kwargs={'map_name': '4x4', 'render_mode': 'human', 'is_slippery': False}, namespace=None, name='FrozenLake', version=1)"
      ]
     },
     "execution_count": 8,
     "metadata": {},
     "output_type": "execute_result"
    }
   ],
   "source": [
    "env.spec"
   ]
  },
  {
   "cell_type": "code",
   "execution_count": 11,
   "id": "d6ae09c3",
   "metadata": {},
   "outputs": [
    {
     "data": {
      "text/plain": [
       "16"
      ]
     },
     "execution_count": 11,
     "metadata": {},
     "output_type": "execute_result"
    }
   ],
   "source": []
  },
  {
   "cell_type": "code",
   "execution_count": 9,
   "id": "f624a848",
   "metadata": {},
   "outputs": [],
   "source": [
    "class GenericAgent:\n",
    "    \n",
    "    def __init__(self, env: gym.wrappers.time_limit.TimeLimit):\n",
    "        action_space = env.action_space\n",
    "\n",
    "        if type(action_space) == gym.spaces.discrete.Discrete:\n",
    "            self.action_size = action_space.n\n",
    "            self.action_type = \"DISCRETE\"\n",
    "            \n",
    "            # Observation Type\n",
    "            self.observation_size = env.observation_space.n\n",
    "        else:\n",
    "            self.action_type = \"CONTINUOUS\"\n",
    "            self.action_low = action_space.low\n",
    "            self.action_high = action_space.high\n",
    "            self.action_shape = action_space.shape\n",
    "            \n",
    "    \n",
    "    def get_random_action(self, state = None):\n",
    "        \n",
    "        if self.action_type == \"DISCRETE\":\n",
    "            return random.choice(np.arange(self.action_size))\n",
    "        else:\n",
    "            return np.random.uniform(low=self.action_low, high=self.action_high, size=self.action_shape)"
   ]
  },
  {
   "cell_type": "code",
   "execution_count": null,
   "id": "0f7b1204",
   "metadata": {},
   "outputs": [],
   "source": [
    "class QAgent(GenericAgent):\n",
    "    \n",
    "    def __init__(self, env: gym.wrappers.time_limit.TimeLimit):\n",
    "        \n",
    "        super(QAgent, self).__init__(env)\n",
    "        self.env = env\n",
    "        \n",
    "        self.observation_size = env.observation_space.shape.n"
   ]
  }
 ],
 "metadata": {
  "kernelspec": {
   "display_name": "Python 3 (ipykernel)",
   "language": "python",
   "name": "python3"
  },
  "language_info": {
   "codemirror_mode": {
    "name": "ipython",
    "version": 3
   },
   "file_extension": ".py",
   "mimetype": "text/x-python",
   "name": "python",
   "nbconvert_exporter": "python",
   "pygments_lexer": "ipython3",
   "version": "3.10.9"
  }
 },
 "nbformat": 4,
 "nbformat_minor": 5
}
