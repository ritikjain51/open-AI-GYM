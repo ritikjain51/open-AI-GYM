{
 "cells": [
  {
   "cell_type": "code",
   "execution_count": 1,
   "id": "fd77d78c-9cf5-421e-8088-77d7f9a2b816",
   "metadata": {},
   "outputs": [],
   "source": [
    "import os\n",
    "os.environ[\"KMP_DUPLICATE_LIB_OK\"]=\"TRUE\""
   ]
  },
  {
   "cell_type": "code",
   "execution_count": 2,
   "id": "d1c8b666",
   "metadata": {},
   "outputs": [
    {
     "data": {
      "text/plain": [
       "<contextlib.ExitStack at 0x16baf427fa0>"
      ]
     },
     "execution_count": 2,
     "metadata": {},
     "output_type": "execute_result"
    }
   ],
   "source": [
    "import gym\n",
    "import torch\n",
    "from torch import nn, optim, functional as F\n",
    "import numpy as np\n",
    "from IPython.display import clear_output\n",
    "import matplotlib\n",
    "import matplotlib.pyplot as plt\n",
    "import random\n",
    "import math\n",
    "# set up matplotlib\n",
    "is_ipython = 'inline' in matplotlib.get_backend()\n",
    "if is_ipython:\n",
    "    from IPython import display\n",
    "\n",
    "plt.ion()\n"
   ]
  },
  {
   "cell_type": "code",
   "execution_count": 3,
   "id": "25ba5c91",
   "metadata": {},
   "outputs": [
    {
     "name": "stdout",
     "output_type": "stream",
     "text": [
      "Environment Name:  FrozenLake\n",
      "Action Space Type:  DISCRETE\n",
      "Observation Space Type:  DISCRETE\n",
      "Observation Space:  Discrete(16)\n"
     ]
    }
   ],
   "source": [
    "# Defining the Environment Name\n",
    "env_name = 'FrozenLake-v1'\n",
    "# env_name = \"CartPole-v1\"\n",
    "# Environment Utility and Initialization class\n",
    "\n",
    "class Environment(gym.wrappers.time_limit.TimeLimit):\n",
    "    \n",
    "    def __init__(self, env_name, *args, **kwargs):\n",
    "        super(Environment, self).__init__(gym.make(env_name,  *args, **kwargs))\n",
    "        self.print_env()\n",
    "    \n",
    "    def print_env(self):\n",
    "        print(\"Environment Name: \", self.spec.name)\n",
    "        print(\"Action Space Type: \", \"DISCRETE\" if type(self.action_space) == gym.spaces.discrete.Discrete else \"CONTINUOUS\" )\n",
    "        print(\"Observation Space Type: \", \"DISCRETE\" if type(self.observation_space) == gym.spaces.discrete.Discrete else \"CONTINUOUS\" )\n",
    "        print(\"Observation Space: \", self.observation_space)\n",
    "        \n",
    "    def __del__(self):\n",
    "        self.close()\n",
    "\n",
    "env = Environment(env_name, render_mode=\"rgb_array\", is_slippery=False, map_name=\"4x4\")"
   ]
  },
  {
   "cell_type": "code",
   "execution_count": null,
   "id": "c49ce733",
   "metadata": {},
   "outputs": [],
   "source": []
  },
  {
   "cell_type": "code",
   "execution_count": 4,
   "id": "f06864cc",
   "metadata": {},
   "outputs": [
    {
     "name": "stdout",
     "output_type": "stream",
     "text": [
      "Device :  cpu\n"
     ]
    }
   ],
   "source": [
    "# Device Utility\n",
    "\n",
    "device = \"cpu\" if torch.backends.mps.is_available() else \"cuda\" if torch.cuda.is_available() else \"cpu\"\n",
    "print(\"Device : \", device)"
   ]
  },
  {
   "cell_type": "markdown",
   "id": "68e2f3cc",
   "metadata": {},
   "source": [
    "## Replay Memory"
   ]
  },
  {
   "cell_type": "code",
   "execution_count": 5,
   "id": "36f46fbe",
   "metadata": {},
   "outputs": [],
   "source": [
    "from collections import namedtuple, deque"
   ]
  },
  {
   "cell_type": "code",
   "execution_count": 6,
   "id": "7fa767c8",
   "metadata": {},
   "outputs": [],
   "source": [
    "transition = namedtuple(\"Transition\", (\"state\", \"action\", \"next_state\", \"reward\", \"terminate\"))\n",
    "\n",
    "class ReplayMemory:\n",
    "    \n",
    "    def __init__(self, capacity=10000):\n",
    "        self.memory = deque([], maxlen=capacity)\n",
    "    \n",
    "    def push(self, *args):\n",
    "        self.memory.append(transition(*args))\n",
    "    \n",
    "    def sample(self, batch_size):\n",
    "        return random.sample(self.memory, batch_size)\n",
    "    \n",
    "    def __len__(self):\n",
    "        return len(self.memory)"
   ]
  },
  {
   "cell_type": "code",
   "execution_count": 7,
   "id": "2e365442",
   "metadata": {},
   "outputs": [],
   "source": [
    "class DQN(nn.Module):\n",
    "    \n",
    "    def __init__(self, in_features, out_features):\n",
    "        super().__init__()\n",
    "        self.model = nn.ModuleList(\n",
    "        [\n",
    "            nn.Linear(in_features, 128),\n",
    "            nn.ReLU(),\n",
    "            nn.Linear(128, 128),\n",
    "            nn.ReLU(),\n",
    "            nn.Linear(128, out_features),\n",
    "        ])\n",
    "    \n",
    "    def forward(self, observe):\n",
    "#         import pdb; pdb.set_trace()\n",
    "        resp = observe\n",
    "        for x in self.model:\n",
    "            resp = x(resp)\n",
    "        return resp"
   ]
  },
  {
   "cell_type": "markdown",
   "id": "afe377dc",
   "metadata": {},
   "source": [
    "Now we have define the model and replay memory. \n",
    "\n",
    "Now we are going to define the Hyperparameters, objective function, selection process. "
   ]
  },
  {
   "cell_type": "code",
   "execution_count": 8,
   "id": "1c8eb8e4",
   "metadata": {},
   "outputs": [],
   "source": [
    "LR = 0.9\n",
    "N_ACTIONS = env.action_space.n\n",
    "N_OBSERVATIONS = 1\n",
    "EPSILON = 0.95\n",
    "steps_done = 0\n",
    "BATCH_SIZE = 8\n",
    "EPS_START = 0.9\n",
    "EPS_END = 0.05\n",
    "EPS_DECAY = 1000\n",
    "TAU = 0.005\n",
    "GAMMA = 0.99\n",
    "\n",
    "policy_net = DQN(N_OBSERVATIONS, N_ACTIONS).to(device)\n",
    "target_net = DQN(N_OBSERVATIONS, N_ACTIONS).to(device)\n",
    "target_net.load_state_dict(policy_net.state_dict())\n",
    "\n",
    "\n",
    "optimizer = optim.AdamW(policy_net.parameters(), lr=LR, amsgrad=True)\n",
    "\n",
    "# Memory initialization\n",
    "replay_buffer = ReplayMemory(capacity = 100000)"
   ]
  },
  {
   "cell_type": "code",
   "execution_count": 15,
   "id": "331373bd",
   "metadata": {},
   "outputs": [],
   "source": [
    "def select_action(state):\n",
    "    global steps_done\n",
    "    eps_threshold = EPS_END + (EPS_START - EPS_END) * math.exp(-1. * (steps_done / EPS_DECAY))\n",
    "    steps_done +=1\n",
    "    if random.random() < eps_threshold:\n",
    "        return torch.tensor(env.action_space.sample())\n",
    "    else:\n",
    "        with torch.no_grad():\n",
    "            return policy_net(torch.tensor([state], dtype=torch.float32)).argmax()\n",
    "\n",
    "    \n",
    "\n",
    "episode_durations = []\n",
    "\n",
    "\n",
    "def plot_durations(show_result=False):\n",
    "    plt.figure(1, figsize=(15, 10))\n",
    "    durations_t = torch.tensor(episode_durations, dtype=torch.float)\n",
    "    if show_result:\n",
    "        plt.title('Result')\n",
    "    else:\n",
    "        plt.clf()\n",
    "        plt.title('Training...')\n",
    "    plt.xlabel('Episode')\n",
    "    plt.ylabel('Duration')\n",
    "    plt.plot(durations_t.numpy())\n",
    "    # Take 100 episode averages and plot them too\n",
    "    if len(durations_t) >= 100:\n",
    "        means = durations_t.unfold(0, 100, 1).mean(1).view(-1)\n",
    "        means = torch.cat((torch.zeros(99), means))\n",
    "        plt.plot(means.numpy())\n",
    "\n",
    "    plt.pause(0.001)  # pause a bit so that plots are updated\n",
    "    if is_ipython:\n",
    "        if not show_result:\n",
    "            display.display(plt.gcf())\n",
    "            display.clear_output(wait=True)\n",
    "        else:\n",
    "            display.display(plt.gcf())"
   ]
  },
  {
   "cell_type": "code",
   "execution_count": 16,
   "id": "e7f0c980",
   "metadata": {},
   "outputs": [],
   "source": [
    "replay_buffer = ReplayMemory(10000)"
   ]
  },
  {
   "cell_type": "code",
   "execution_count": null,
   "id": "71b9b720",
   "metadata": {},
   "outputs": [],
   "source": []
  },
  {
   "cell_type": "code",
   "execution_count": 17,
   "id": "117bf530",
   "metadata": {},
   "outputs": [],
   "source": [
    "def train_model():\n",
    "    \"\"\"\n",
    "    For model training \n",
    "    1. Check if memory have enough records to be fetched.\n",
    "    2. Fetch the records from memory\n",
    "    3. Preprocess the records. \n",
    "    4. Model execution\n",
    "    5. loss optimization \n",
    "    6. optimizer steps\n",
    "    \n",
    "    \"\"\"\n",
    "    # Checking for the records\n",
    "    if len(replay_buffer) < BATCH_SIZE:\n",
    "        return None\n",
    "    \n",
    "    # Fetching records\n",
    "    batch_data = replay_buffer.sample(BATCH_SIZE)\n",
    "    \n",
    "    # Converting row batch to column batch\n",
    "    batches = transition(*zip(*batch_data))\n",
    "    \n",
    "    # Non-Terminated States\n",
    "    non_final_mask = torch.tensor(tuple(map(lambda s: s is not None,\n",
    "                                          batches.next_state)), device=device, dtype=torch.bool)\n",
    "    non_final_next_states = torch.tensor([x for x in batches.next_state if x is not None], device=device, dtype=torch.float32).view(-1, 1)\n",
    "    \n",
    "    # Preprocess records\n",
    "    states = torch.tensor(batches.state).view(-1, 1).to(device)\n",
    "    actions = torch.tensor(batches.action).view(-1, 1).to(device)\n",
    "    rewards = torch.tensor(batches.reward).view(-1, 1).to(device)\n",
    "\n",
    "    # Train Execution\n",
    "    pred_actions = policy_net(states).gather(1, actions)\n",
    "    \n",
    "    \n",
    "    next_state_batch = torch.zeros((BATCH_SIZE)).to(device)\n",
    "    with torch.no_grad():\n",
    "        next_state_batch[non_final_mask] = target_net(non_final_next_states).max(1)[0]\n",
    "    expected_state_action_values = (next_state_batch * GAMMA) + rewards\n",
    "\n",
    "    \n",
    "    # Define Criteria \n",
    "    criteria = nn.SmoothL1Loss()\n",
    "    loss = criteria(pred_actions, expected_state_action_values)\n",
    "    \n",
    "    # Optimization \n",
    "    optimizer.zero_grad()\n",
    "    loss.backward()\n",
    "    \n",
    "    # Gradient Clipping\n",
    "    nn.utils.clip_grad_norm(policy_net.parameters(), 100)\n",
    "    optimizer.step()\n",
    "    "
   ]
  },
  {
   "cell_type": "markdown",
   "id": "49025c3a",
   "metadata": {},
   "source": [
    "# Start the episodes to execute the model and optimize the model"
   ]
  },
  {
   "cell_type": "code",
   "execution_count": 18,
   "id": "7cf3fa30",
   "metadata": {},
   "outputs": [],
   "source": [
    "N_EPOCHS = 1000"
   ]
  },
  {
   "cell_type": "code",
   "execution_count": null,
   "id": "2801538c",
   "metadata": {},
   "outputs": [
    {
     "data": {
      "image/png": "[encoded data removed]",
      "text/plain": [
       "<Figure size 640x480 with 1 Axes>"
      ]
     },
     "metadata": {},
     "output_type": "display_data"
    },
    {
     "data": {
      "text/plain": [
       "<Figure size 640x480 with 0 Axes>"
      ]
     },
     "metadata": {},
     "output_type": "display_data"
    }
   ],
   "source": [
    "for epoch in range(N_EPOCHS):\n",
    "    state, info = env.reset()\n",
    "    done, count = False, 0\n",
    "    while not done:\n",
    "        \n",
    "        # Get the actions \n",
    "        action = select_action(state)\n",
    "        \n",
    "        next_state, reward, terminate, truncate, *_ = env.step(action.item())\n",
    "        done = truncate or terminate\n",
    "        \n",
    "        # Next State None if terminated\n",
    "        next_state = None if terminate else torch.tensor(next_state, dtype=torch.float32)\n",
    "        \n",
    "        # Pushing transition to replay_buffer\n",
    "        replay_buffer.push(state, action, next_state, reward, terminate)\n",
    "        state = next_state\n",
    "        \n",
    "        # Model training\n",
    "        train_model()\n",
    "\n",
    "\n",
    "        count += 1\n",
    "        # Plot the losses\n",
    "        if done:\n",
    "            episode_durations.append(count)\n",
    "            plot_durations()\n",
    "    # Updating weights for target net \n",
    "    policy_net_state_dict = policy_net.state_dict()\n",
    "    target_net_state_dict = target_net.state_dict()\n",
    "\n",
    "    for key, val in policy_net_state_dict.items():\n",
    "        target_net_state_dict[key] = val * TAU + target_net_state_dict[key] * (1-TAU)\n",
    "\n",
    "    target_net.load_state_dict(target_net_state_dict)\n",
    "\n",
    "print(\"Completed\")\n",
    "plot_durations(True)\n",
    "plt.ioff()\n",
    "plt.show()"
   ]
  },
  {
   "cell_type": "code",
   "execution_count": null,
   "id": "d5bd2a7b",
   "metadata": {},
   "outputs": [],
   "source": [
    "for i in range(10):\n",
    "    state, _ = env.reset()\n",
    "    done = False\n",
    "    state = torch.tensor(state, dtype=torch.float32)\n",
    "    while not done:\n",
    "        # Get the actions \n",
    "        action = select_action(state)\n",
    "        \n",
    "        next_state, reward, terminate, truncate, *_ = env.step(action.item())\n",
    "        done = truncate or terminate\n",
    "        next_state = None if terminate else torch.tensor(next_state, dtype=torch.float32)\n",
    "        reward = torch.tensor(reward, dtype=torch.float32)\n",
    "#         replay_buffer.push(state, action, next_state, reward, terminate)\n",
    "        state = next_state\n",
    "        "
   ]
  },
  {
   "cell_type": "code",
   "execution_count": null,
   "id": "07b91985",
   "metadata": {},
   "outputs": [],
   "source": [
    "env.close()"
   ]
  },
  {
   "cell_type": "code",
   "execution_count": null,
   "id": "a89037aa-5ccb-4b37-b71c-3ecc9e386629",
   "metadata": {},
   "outputs": [],
   "source": []
  }
 ],
 "metadata": {
  "kernelspec": {
   "display_name": "Python 3 (ipykernel)",
   "language": "python",
   "name": "python3"
  },
  "language_info": {
   "codemirror_mode": {
    "name": "ipython",
    "version": 3
   },
   "file_extension": ".py",
   "mimetype": "text/x-python",
   "name": "python",
   "nbconvert_exporter": "python",
   "pygments_lexer": "ipython3",
   "version": "3.10.9"
  }
 },
 "nbformat": 4,
 "nbformat_minor": 5
}
