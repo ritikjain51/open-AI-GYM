{
 "cells": [
  {
   "cell_type": "markdown",
   "id": "96217dfd",
   "metadata": {},
   "source": [
    "# Q-Learning in Reinforcement Learning \n",
    "\n",
    "Q-Learning is a Reinforcement learning policy that will find the next best action, given a current state. It chooses this action at random and aims to maximize the reward.\n",
    "\n",
    "Q-learning is a model-free, off-policy reinforcement learning that will find the best course of action, given the current state of the agent. Depending on where the agent is in the environment, it will decide the next action to be taken. \n",
    "\n",
    "Important Terms in Q-Learning\n",
    "\n",
    "1. States: The State, S, represents the current position of an agent in an environment. \n",
    "2. Action: The Action, A, is the step taken by the agent when it is in a particular state.\n",
    "3. Rewards: For every action, the agent will get a positive or negative reward.\n",
    "4. Episodes: When an agent ends up in a terminating state and can’t take a new action.\n",
    "5. Q-Values: Used to determine how good an Action, A, taken at a particular state, S, is. Q (A, S).\n",
    "6. Temporal Difference: A formula used to find the Q-Value by using the value of current state and action and previous state and action."
   ]
  },
  {
   "cell_type": "markdown",
   "id": "0f2926c4",
   "metadata": {},
   "source": [
    "In Q-Learning, the agent has an initial Q-Table with arbitary fixed values (could be zero). \n",
    "\n",
    "Initally, the agent will be in start position in the environment denoted as ($s_{t=0}$)\n",
    "\n",
    "\n",
    "At each time($t$), the agent \n",
    "- Performs an Action ($a_t$)\n",
    "- Observe the reward ($r_t$)\n",
    "- Enter to a new state ($s_{t+1}$)\n",
    "\n",
    "Then, based on operation the Q-Table updates.\n"
   ]
  },
  {
   "cell_type": "markdown",
   "id": "41cca3fc",
   "metadata": {},
   "source": [
    "For updating the Q-table the algorithm uses the **Bellman Equation** which states\n",
    "\n",
    "$$Q(s_t, a_t) = R(s_t, a_t) + \\gamma * Max(Q(s_{t+1}, A)) $$\n",
    "\n",
    "where, \n",
    "- $s_t$ is current state\n",
    "- $a_t$ is current action \n",
    "- $R(s_t, a_t)$ is reward for current action and state\n",
    "- $\\gamma$ is discount factor\n",
    "- $s_{t+1}$ is the next state\n",
    "- $A$ is all actions\n",
    "- $Q(s_{t+1}, A)$ is the q-value for all action in next state"
   ]
  },
  {
   "cell_type": "code",
   "execution_count": 1,
   "id": "26daafdf",
   "metadata": {},
   "outputs": [],
   "source": [
    "import gym\n",
    "import numpy as np\n",
    "import random\n",
    "from IPython.display import clear_output"
   ]
  },
  {
   "cell_type": "markdown",
   "id": "3a6ede19",
   "metadata": {},
   "source": [
    "For understanding the Q-Learning technique, we are using Frozen Lake environment from OpenAI Gym. <br>\n",
    "To know more about [FrozenLake-v1](https://www.gymlibrary.dev/environments/toy_text/frozen_lake/)\n",
    "\n",
    "\n",
    "![Image](https://www.gymlibrary.dev/_images/frozen_lake.gif \"Frozen Lake Without Slippery\")"
   ]
  },
  {
   "cell_type": "code",
   "execution_count": 2,
   "id": "7f7d2d24",
   "metadata": {},
   "outputs": [],
   "source": [
    "# Defining the Environment Name\n",
    "env_name = 'FrozenLake-v1'"
   ]
  },
  {
   "cell_type": "code",
   "execution_count": 3,
   "id": "3d49e55f",
   "metadata": {},
   "outputs": [],
   "source": [
    "# Environment Utility and Initialization class\n",
    "\n",
    "class Environment(gym.wrappers.time_limit.TimeLimit):\n",
    "    \n",
    "    def __init__(self, env_name, *args, **kwargs):\n",
    "        super(Environment, self).__init__(gym.make(env_name,  *args, **kwargs))\n",
    "        self.print_env()\n",
    "    \n",
    "    def print_env(self):\n",
    "        print(\"Environment Name: \", self.spec.name)\n",
    "        print(\"Action Space Type: \", \"DISCRETE\" if type(self.action_space) == gym.spaces.discrete.Discrete else \"CONTINUOUS\" )\n",
    "        print(\"Observation Space Type: \", \"DISCRETE\" if type(self.observation_space) == gym.spaces.discrete.Discrete else \"CONTINUOUS\" )\n",
    "        print(\"Observation Space: \", self.observation_space)\n",
    "        \n",
    "    def __del__(self):\n",
    "        self.close()"
   ]
  },
  {
   "cell_type": "code",
   "execution_count": 4,
   "id": "ac432a51",
   "metadata": {},
   "outputs": [
    {
     "name": "stdout",
     "output_type": "stream",
     "text": [
      "Environment Name:  FrozenLake\n",
      "Action Space Type:  DISCRETE\n",
      "Observation Space Type:  DISCRETE\n",
      "Observation Space:  Discrete(64)\n"
     ]
    }
   ],
   "source": [
    "env = Environment(env_name, render_mode=\"rgb_array\", is_slippery=False, map_name=\"8x8\")"
   ]
  },
  {
   "cell_type": "markdown",
   "id": "869723f1",
   "metadata": {},
   "source": [
    "# Agent \n",
    "\n",
    "In this notebook, we are extending the Generic agent, we created in previous [notebook](https://github.com/ritikjain51/open-AI-GYM/blob/master/Introduction%20to%20GYM.ipynb).\n"
   ]
  },
  {
   "cell_type": "code",
   "execution_count": 5,
   "id": "e9487c29",
   "metadata": {},
   "outputs": [],
   "source": [
    "class GenericAgent:\n",
    "    \n",
    "    def __init__(self, env: gym.wrappers.time_limit.TimeLimit):\n",
    "        action_space = env.action_space\n",
    "\n",
    "        # Action Space\n",
    "        if type(action_space) == gym.spaces.discrete.Discrete:\n",
    "            self.action_size = action_space.n\n",
    "            self.action_type = \"DISCRETE\"\n",
    "            self.action_space = np.arange(action_space.n)\n",
    "        else:\n",
    "            self.action_type = \"CONTINUOUS\"\n",
    "            self.action_low = action_space.low\n",
    "            self.action_high = action_space.high\n",
    "            self.action_size = action_space.shape\n",
    "        \n",
    "        \n",
    "        # Observation Type\n",
    "        obs_space = env.observation_space\n",
    "        if type(obs_space) == gym.spaces.discrete.Discrete:\n",
    "            self.observation_type = \"DISCRETE\"\n",
    "            self.observation_size = obs_space.n\n",
    "        else:\n",
    "            self.observation_type = \"CONTINUOUS\"\n",
    "            self.observation_low = obs_space.low\n",
    "            self.observation_high = obs_space.high\n",
    "            self.observation_size = obs_space.shape\n",
    "        \n",
    "    \n",
    "    def get_random_action(self, state = None):\n",
    "        \n",
    "        if self.action_type == \"DISCRETE\":\n",
    "            return np.random.choice(self.action_space)\n",
    "        else:\n",
    "            return np.random.uniform(low=self.action_low, high=self.action_high, size=self.action_shape)"
   ]
  },
  {
   "cell_type": "markdown",
   "id": "65729a39",
   "metadata": {},
   "source": [
    "## Q-Agent \n",
    "\n",
    "I am defining the Q-Agent, that will find the next best action based on current observations. \n",
    "\n",
    "### Algorithm \n",
    "\n",
    "1. Define the Q-Table with action and observation space. Initialize it to zeros.\n",
    "2. Select the best action for the observation from Q-Table\n",
    "    $$a = Max(Q(O_t, A)) $$\n",
    "    where, \n",
    "    - $O_t$ is the current observation\n",
    "    - $A$ is the all action\n",
    "    \n",
    "3. Update the Q-Table based on selection\n",
    "    $$Q(s_t, a_t) = R(s_t, a_t) + \\gamma * Max(Q(s_{t+1}, A)) $$\n"
   ]
  },
  {
   "cell_type": "code",
   "execution_count": 6,
   "id": "9f4674ce",
   "metadata": {},
   "outputs": [],
   "source": [
    "class QAgent(GenericAgent):\n",
    "    \n",
    "    def __init__(self, env: gym.wrappers.time_limit.TimeLimit, learning_rate = 0.57, discount_rate = 0.97, epsilon=1):\n",
    "        \n",
    "        super(QAgent, self).__init__(env)\n",
    "        self.env = env\n",
    "        self.initalize_qtable()\n",
    "        self.learning_rate = learning_rate\n",
    "        self.discount_rate = discount_rate\n",
    "        self.epsilon = epsilon\n",
    "        self.explore, self.exploit = 0, 0\n",
    "    \n",
    "    def initalize_qtable(self):\n",
    "        # Creating the Q Table with almost zero values\n",
    "        self.q_table = 1e-4 * np.random.random(size=[self.observation_size, self.action_size])\n",
    "#         self.q_table = np.zeros([self.observation_size, self.action_size])\n",
    "    \n",
    "    def get_action(self, observation):\n",
    "        \n",
    "        if random.random() < self.epsilon:\n",
    "            self.explore += 1\n",
    "            return self.get_random_action(observation)\n",
    "        state_table = self.q_table[observation]\n",
    "        action = np.argmax(state_table) \n",
    "        self.exploit += 1\n",
    "        return action\n",
    "\n",
    "    def update_qtable(self, experience, action):\n",
    "        \n",
    "        observation, reward, terminate, truncate, info = experience\n",
    "        q_next = self.q_table[observation]\n",
    "        q_next = np.zeros([self.action_size]) if terminate else q_next\n",
    "        q_target = reward + self.discount_rate * np.max(q_next)\n",
    "        q_update = q_target - self.q_table[observation, action]\n",
    "        self.q_table[observation, action] += self.learning_rate * q_update\n",
    "        \n",
    "        \n",
    "        if terminate:\n",
    "            self.epsilon *= 0.99"
   ]
  },
  {
   "cell_type": "code",
   "execution_count": null,
   "id": "2de1ba4b",
   "metadata": {},
   "outputs": [],
   "source": []
  },
  {
   "cell_type": "code",
   "execution_count": 8,
   "id": "e57eb2b8",
   "metadata": {},
   "outputs": [],
   "source": [
    "agent = QAgent(env)\n",
    "\n",
    "# Training for 100 episodes\n",
    "prev_obs = env.observation_space.sample()\n",
    "total_reward = 0"
   ]
  },
  {
   "cell_type": "code",
   "execution_count": 9,
   "id": "2a14153e",
   "metadata": {},
   "outputs": [],
   "source": [
    "from time import sleep"
   ]
  },
  {
   "cell_type": "code",
   "execution_count": null,
   "id": "2940b3fa",
   "metadata": {},
   "outputs": [
    {
     "name": "stdout",
     "output_type": "stream",
     "text": [
      "Episode: 88, Reward: 0.0\n",
      "Previous Observation: 9, Observation: 10\n",
      "Action: 2 Epsilon: 0.41294967113388825\n",
      "Exploration Step: 18 Exploitation Steps: 23\n",
      "\n",
      "\n",
      "[[4.06414750e-05 2.93022612e-05 4.18984278e-05 4.06414750e-05]\n",
      " [7.45364592e-05 7.68417105e-05 7.45364592e-05 7.45364592e-05]\n",
      " [8.10461794e-05 8.35527622e-05 8.10461794e-05 8.10461794e-05]\n",
      " [4.77890489e-05 3.17499628e-05 4.63604754e-05 4.64204563e-05]\n",
      " [8.12947199e-05 8.41642601e-05 8.16388291e-05 8.16392777e-05]\n",
      " [7.35879477e-05 7.76562281e-05 7.52641610e-05 6.52797829e-05]\n",
      " [8.58103747e-05 8.82415639e-05 8.89048462e-05 8.67884436e-05]\n",
      " [7.09754722e-05 2.96850339e-05 6.86775717e-05 6.79505953e-05]\n",
      " [2.52921831e-05 2.53320236e-05 6.29782113e-07 2.60675085e-05]\n",
      " [4.70580495e-05 4.70602750e-05 4.85134469e-05 4.71241876e-05]\n",
      " [4.90235948e-05 4.75551357e-05 4.75528870e-05 4.75650635e-05]\n",
      " [7.02217767e-05 7.17325778e-05 6.95806008e-05 6.68519364e-06]\n",
      " [7.37543265e-05 7.15429305e-05 7.15416982e-05 7.16716996e-05]\n",
      " [8.07811001e-05 8.39971450e-05 8.24736730e-05 7.98513623e-05]\n",
      " [8.46266060e-05 5.16556000e-05 8.26095062e-05 8.14136801e-05]\n",
      " [4.63125729e-05 8.11627136e-05 7.87358292e-05 6.98069967e-05]\n",
      " [3.30156437e-05 3.30157284e-05 3.40367461e-05 3.30342649e-05]\n",
      " [4.57273696e-05 4.52105196e-05 4.54657347e-05 4.66084737e-05]\n",
      " [3.24742565e-05 5.61976132e-05 5.61976300e-05 5.79356837e-05]\n",
      " [6.98627934e-07 2.93562514e-18 2.45070207e-11 1.20586112e-05]\n",
      " [8.63341790e-05 8.63526922e-05 8.90297918e-05 5.06856637e-05]\n",
      " [7.61635423e-05 7.46388176e-05 7.42541545e-05 5.52798047e-05]\n",
      " [6.00103757e-05 5.76623953e-05 6.14313231e-05 5.18873285e-05]\n",
      " [7.81600914e-05 7.52885506e-05 7.41739454e-05 1.87889850e-05]\n",
      " [8.71684618e-05 8.71683634e-05 7.58845383e-05 8.98642922e-05]\n",
      " [8.93714716e-05 8.78689274e-05 8.97886460e-05 9.05633604e-05]\n",
      " [7.67483088e-05 7.44463274e-05 7.46781773e-05 7.22244424e-05]\n",
      " [5.96126392e-05 9.42450289e-05 9.14164196e-05 3.71060014e-05]\n",
      " [9.86641773e-05 9.41600232e-05 9.54120065e-05 9.39323467e-05]\n",
      " [2.59240593e-05 2.56110042e-06 1.51979918e-06 1.66595233e-05]\n",
      " [6.98766454e-05 6.75667570e-05 4.73082998e-05 7.46973283e-05]\n",
      " [2.11549124e-05 9.22183772e-05 2.98345484e-05 3.20327342e-05]\n",
      " [8.18508291e-05 8.42571617e-05 3.14549624e-06 8.17303536e-05]\n",
      " [6.81677183e-05 6.73461183e-05 4.84029746e-05 4.36617223e-05]\n",
      " [8.14096046e-05 7.89333018e-05 7.76991743e-05 3.29272900e-06]\n",
      " [5.97836702e-06 9.67525479e-07 1.83255736e-06 6.52428570e-05]\n",
      " [8.91550407e-05 7.69461417e-05 1.10871377e-05 7.27031596e-05]\n",
      " [2.86498543e-05 2.34880147e-05 1.23691771e-05 4.24967013e-05]\n",
      " [8.57347965e-05 5.64362497e-05 6.65019286e-05 2.88524030e-05]\n",
      " [3.84014463e-05 9.43693874e-05 4.38518344e-05 4.37240203e-05]\n",
      " [6.56559862e-05 6.47879232e-05 5.40721522e-05 6.67915928e-05]\n",
      " [2.78546877e-06 3.18285311e-07 4.19271706e-06 6.03731103e-05]\n",
      " [8.97436741e-05 3.17171442e-05 7.76767133e-05 6.13317816e-05]\n",
      " [5.14614085e-05 1.24192483e-05 3.84164214e-05 1.96914354e-05]\n",
      " [5.83274281e-05 1.24211720e-05 7.91286808e-05 4.62574333e-05]\n",
      " [6.97916404e-05 7.08256678e-05 4.08283576e-05 1.98514876e-05]\n",
      " [4.38911304e-05 1.14032496e-07 3.70212650e-05 4.69013275e-05]\n",
      " [3.92982992e-05 5.13240898e-06 9.28502575e-06 3.38305892e-05]\n",
      " [7.31496625e-05 7.92767136e-05 8.17295078e-05 7.12726396e-05]\n",
      " [3.44993416e-05 2.35261107e-05 2.60342387e-07 2.14742753e-05]\n",
      " [3.82947681e-05 3.48565317e-06 5.54868088e-05 1.68305944e-05]\n",
      " [1.95625605e-05 8.27463459e-05 1.93688145e-05 4.21037704e-05]\n",
      " [2.98917993e-06 2.50681071e-05 7.44369611e-05 1.92225150e-05]\n",
      " [4.56852424e-05 4.03430458e-05 5.01476418e-05 5.77714121e-05]\n",
      " [8.66107352e-05 6.37617332e-05 1.49870704e-05 9.90333363e-05]\n",
      " [6.38564300e-05 7.29246302e-05 1.82395235e-06 4.66493354e-05]\n",
      " [5.93576061e-05 5.99750720e-05 7.29747332e-06 1.72514040e-05]\n",
      " [6.18899653e-05 6.73117701e-05 6.96214635e-05 7.31485310e-05]\n",
      " [3.94227165e-06 9.19467456e-05 7.25133571e-05 9.97471320e-05]\n",
      " [6.90198986e-05 4.78866349e-05 3.06566287e-05 6.48979958e-05]\n",
      " [5.46434455e-05 1.49923336e-05 8.36672385e-05 6.39319885e-05]\n",
      " [5.18773733e-05 9.68981645e-05 9.46315857e-05 2.43802833e-05]\n",
      " [8.86318071e-05 2.57467991e-05 4.65397622e-05 4.37252473e-05]\n",
      " [5.50839363e-05 1.87827963e-05 4.34007248e-05 9.53648703e-06]]\n"
     ]
    }
   ],
   "source": [
    "\n",
    "for episode in range(1000): \n",
    "    env.reset()\n",
    "    agent.explore = 0\n",
    "    agent.exploit = 0\n",
    "    terminate = False\n",
    "    sleep(0.1)\n",
    "    while not terminate:\n",
    "        env.render()\n",
    "        action = agent.get_action(prev_obs)\n",
    "        \n",
    "        (observe, reward, terminate, truncate, info) = env.step(action)\n",
    "        total_reward += reward\n",
    "        agent.update_qtable((observe, reward, terminate, truncate, info), action)\n",
    "        print(\"Episode: {}, Reward: {}\".format(episode, total_reward))\n",
    "        print(\"Previous Observation: {}, Observation: {}\".format(prev_obs, observe))\n",
    "        print(\"Action: {} Epsilon: {}\".format(action, agent.epsilon))\n",
    "        print(\"Exploration Step: {} Exploitation Steps: {}\\n\\n\".format(agent.explore, agent.exploit))\n",
    "        if terminate:\n",
    "            env.reset()\n",
    "        \n",
    "        prev_obs = observe\n",
    "        print(agent.q_table)\n",
    "        clear_output(wait=True)"
   ]
  },
  {
   "cell_type": "code",
   "execution_count": 26,
   "id": "1d53a04e",
   "metadata": {},
   "outputs": [],
   "source": [
    "env.close()"
   ]
  },
  {
   "cell_type": "code",
   "execution_count": 16,
   "id": "1075d0e7",
   "metadata": {},
   "outputs": [
    {
     "data": {
      "text/plain": [
       "(5, 0.0, True, False, {'prob': 0.3333333333333333})"
      ]
     },
     "execution_count": 16,
     "metadata": {},
     "output_type": "execute_result"
    }
   ],
   "source": [
    "experience"
   ]
  },
  {
   "cell_type": "code",
   "execution_count": 17,
   "id": "0d9984ed",
   "metadata": {},
   "outputs": [
    {
     "data": {
      "text/plain": [
       "True"
      ]
     },
     "execution_count": 17,
     "metadata": {},
     "output_type": "execute_result"
    }
   ],
   "source": [
    "experience[2]"
   ]
  },
  {
   "cell_type": "code",
   "execution_count": null,
   "id": "1680a847",
   "metadata": {},
   "outputs": [],
   "source": []
  }
 ],
 "metadata": {
  "kernelspec": {
   "display_name": "Python 3 (ipykernel)",
   "language": "python",
   "name": "python3"
  },
  "language_info": {
   "codemirror_mode": {
    "name": "ipython",
    "version": 3
   },
   "file_extension": ".py",
   "mimetype": "text/x-python",
   "name": "python",
   "nbconvert_exporter": "python",
   "pygments_lexer": "ipython3",
   "version": "3.10.9"
  }
 },
 "nbformat": 4,
 "nbformat_minor": 5
}
